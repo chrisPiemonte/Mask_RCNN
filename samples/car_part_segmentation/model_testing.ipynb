{
 "cells": [
  {
   "cell_type": "code",
   "execution_count": 6,
   "metadata": {},
   "outputs": [],
   "source": [
    "from car_part import CarPartDataset, CarPartConfig, prepare_datasets, preprocess_dataset\n",
    "from pathlib import Path\n",
    "from mrcnn import visualize\n",
    "import colorsys\n",
    "import random\n",
    "import numpy as np\n",
    "import mrcnn.model as modellib\n",
    "from mrcnn.model import log\n",
    "import scipy.io as sio\n",
    "import os\n",
    "import json\n",
    "\n",
    "import matplotlib.pyplot as plt\n",
    "plt.ion()"
   ]
  },
  {
   "cell_type": "markdown",
   "metadata": {},
   "source": [
    "# How to train the model"
   ]
  },
  {
   "cell_type": "code",
   "execution_count": 2,
   "metadata": {},
   "outputs": [],
   "source": [
    "part_annotation_files = Path(\n",
    "    '../../../car-damage-estimation/data/car_part/trainval/Annotations_Part/')\n",
    "images_path = Path('../../../car-damage-estimation/data/VOCdevkit/VOC2010/JPEGImages/')\n",
    "\n",
    "images_annotations_files = list(Path(part_annotation_files).glob('*.mat'))"
   ]
  },
  {
   "cell_type": "markdown",
   "metadata": {},
   "source": [
    "## Prepare the datasets"
   ]
  },
  {
   "cell_type": "code",
   "execution_count": 3,
   "metadata": {},
   "outputs": [
    {
     "name": "stderr",
     "output_type": "stream",
     "text": [
      "100%|██████████| 10103/10103 [01:45<00:00, 95.62it/s] \n",
      "100%|██████████| 10103/10103 [01:57<00:00, 85.99it/s] "
     ]
    },
    {
     "name": "stdout",
     "output_type": "stream",
     "text": [
      "train size 919, test size 1022\n"
     ]
    },
    {
     "name": "stderr",
     "output_type": "stream",
     "text": [
      "\n"
     ]
    }
   ],
   "source": [
    "dataset_train, dataset_val, dataset_test, parts_idx_dict = prepare_datasets(images_path, images_annotations_files, 0.9, 1.0)"
   ]
  },
  {
   "cell_type": "markdown",
   "metadata": {},
   "source": [
    "list(zip(dataset_train.class_names, dataset_train.class_ids))"
   ]
  },
  {
   "cell_type": "code",
   "execution_count": null,
   "metadata": {},
   "outputs": [],
   "source": [
    "print(dataset_train.num_images, dataset_val.num_images, dataset_test.num_images)"
   ]
  },
  {
   "cell_type": "code",
   "execution_count": 4,
   "metadata": {},
   "outputs": [
    {
     "data": {
      "text/plain": [
       "{'backside': 1,\n",
       " 'bliplate': 2,\n",
       " 'door_1': 3,\n",
       " 'door_2': 4,\n",
       " 'door_3': 5,\n",
       " 'fliplate': 6,\n",
       " 'frontside': 7,\n",
       " 'headlight_1': 8,\n",
       " 'headlight_2': 9,\n",
       " 'headlight_3': 10,\n",
       " 'headlight_4': 11,\n",
       " 'headlight_5': 12,\n",
       " 'headlight_6': 13,\n",
       " 'leftmirror': 14,\n",
       " 'leftside': 15,\n",
       " 'rightmirror': 16,\n",
       " 'rightside': 17,\n",
       " 'roofside': 18,\n",
       " 'wheel_1': 19,\n",
       " 'wheel_2': 20,\n",
       " 'wheel_3': 21,\n",
       " 'wheel_4': 22,\n",
       " 'wheel_5': 23,\n",
       " 'window_1': 24,\n",
       " 'window_2': 25,\n",
       " 'window_3': 26,\n",
       " 'window_4': 27,\n",
       " 'window_5': 28,\n",
       " 'window_6': 29,\n",
       " 'window_7': 30}"
      ]
     },
     "execution_count": 4,
     "metadata": {},
     "output_type": "execute_result"
    }
   ],
   "source": [
    "parts_idx_dict"
   ]
  },
  {
   "cell_type": "code",
   "execution_count": 8,
   "metadata": {},
   "outputs": [],
   "source": [
    "with open('parts_idx_dict.json', 'w') as f:\n",
    "    json.dump(parts_idx_dict, f)"
   ]
  },
  {
   "cell_type": "code",
   "execution_count": 10,
   "metadata": {},
   "outputs": [
    {
     "name": "stdout",
     "output_type": "stream",
     "text": [
      "{\"backside\": 1, \"bliplate\": 2, \"door_1\": 3, \"door_2\": 4, \"door_3\": 5, \"fliplate\": 6, \"frontside\": 7, \"headlight_1\": 8, \"headlight_2\": 9, \"headlight_3\": 10, \"headlight_4\": 11, \"headlight_5\": 12, \"headlight_6\": 13, \"leftmirror\": 14, \"leftside\": 15, \"rightmirror\": 16, \"rightside\": 17, \"roofside\": 18, \"wheel_1\": 19, \"wheel_2\": 20, \"wheel_3\": 21, \"wheel_4\": 22, \"wheel_5\": 23, \"window_1\": 24, \"window_2\": 25, \"window_3\": 26, \"window_4\": 27, \"window_5\": 28, \"window_6\": 29, \"window_7\": 30}"
     ]
    }
   ],
   "source": [
    "!cat parts_idx_dict.json"
   ]
  },
  {
   "cell_type": "markdown",
   "metadata": {},
   "source": [
    "### Check some images"
   ]
  },
  {
   "cell_type": "code",
   "execution_count": null,
   "metadata": {},
   "outputs": [],
   "source": [
    "colors = visualize.generate_colormap(30, scaled=False)"
   ]
  },
  {
   "cell_type": "code",
   "execution_count": null,
   "metadata": {},
   "outputs": [],
   "source": [
    "i = 2"
   ]
  },
  {
   "cell_type": "code",
   "execution_count": null,
   "metadata": {},
   "outputs": [],
   "source": [
    "img = dataset_train.load_image(i)\n",
    "plt.imshow(img)"
   ]
  },
  {
   "cell_type": "code",
   "execution_count": null,
   "metadata": {},
   "outputs": [],
   "source": [
    "mask, classes = dataset_train.load_mask(i)\n",
    "img_copy = img.copy()\n",
    "\n",
    "for l in range(mask.shape[-1]):\n",
    "    img_copy = visualize.apply_mask(img_copy, mask[:,:,l], colors[l])\n",
    "    \n",
    "plt.imshow(img_copy)"
   ]
  },
  {
   "cell_type": "code",
   "execution_count": null,
   "metadata": {},
   "outputs": [],
   "source": [
    "[dataset_val.class_names[c] for c in classes]"
   ]
  },
  {
   "cell_type": "markdown",
   "metadata": {},
   "source": [
    "## Create the model"
   ]
  },
  {
   "cell_type": "code",
   "execution_count": null,
   "metadata": {},
   "outputs": [],
   "source": [
    "def make_subplot(rows=1, cols=1, size=16):\n",
    "    \"\"\"Return a Matplotlib Axes array to be used in\n",
    "    all visualizations in the notebook. Provide a\n",
    "    central point to control graph sizes.\n",
    "    \n",
    "    Adjust the size attribute to control how big to render images\n",
    "    \"\"\"\n",
    "    _, ax = plt.subplots(rows, cols, figsize=(size*cols, size*rows))\n",
    "    return ax"
   ]
  },
  {
   "cell_type": "code",
   "execution_count": null,
   "metadata": {},
   "outputs": [],
   "source": [
    "config = CarPartConfig()\n",
    "MODEL_DIR = './logs/'\n",
    "config.BATCH_SIZE"
   ]
  },
  {
   "cell_type": "markdown",
   "metadata": {},
   "source": [
    "## Inspect the model results"
   ]
  },
  {
   "cell_type": "code",
   "execution_count": null,
   "metadata": {},
   "outputs": [],
   "source": [
    "model = modellib.MaskRCNN(mode=\"inference\", config=config,\n",
    "                          model_dir=MODEL_DIR)"
   ]
  },
  {
   "cell_type": "code",
   "execution_count": null,
   "metadata": {
    "scrolled": true
   },
   "outputs": [],
   "source": [
    "model.find_last()"
   ]
  },
  {
   "cell_type": "code",
   "execution_count": null,
   "metadata": {},
   "outputs": [],
   "source": [
    "model.load_weights(model.find_last(), by_name=True)"
   ]
  },
  {
   "cell_type": "code",
   "execution_count": null,
   "metadata": {},
   "outputs": [],
   "source": [
    "!ls ./logs/car_parts20190326T1032"
   ]
  },
  {
   "cell_type": "code",
   "execution_count": null,
   "metadata": {},
   "outputs": [],
   "source": [
    "model.load_weights('./logs/car_parts20190326T1032/mask_rcnn_car_parts_0040.h5', by_name=True)"
   ]
  },
  {
   "cell_type": "code",
   "execution_count": null,
   "metadata": {},
   "outputs": [],
   "source": [
    "dataset_train.class_names"
   ]
  },
  {
   "cell_type": "code",
   "execution_count": null,
   "metadata": {},
   "outputs": [],
   "source": [
    "result['class_ids']"
   ]
  },
  {
   "cell_type": "code",
   "execution_count": null,
   "metadata": {},
   "outputs": [],
   "source": [
    "#select an image\n",
    "img = dataset_train.load_image(2)\n",
    "result = model.detect([img])[0]\n",
    "ax = make_subplot(rows=1, size=12)\n",
    "\n",
    "img = visualize.display_instances(img, result['rois'], result['masks'], result['class_ids'], \n",
    "                            dataset_train.class_names, colors, result['scores'], ax=ax,\n",
    "                            title=\"Predictions\")"
   ]
  },
  {
   "cell_type": "code",
   "execution_count": null,
   "metadata": {},
   "outputs": [],
   "source": []
  }
 ],
 "metadata": {
  "kernelspec": {
   "display_name": "Python 3",
   "language": "python",
   "name": "python3"
  },
  "language_info": {
   "codemirror_mode": {
    "name": "ipython",
    "version": 3
   },
   "file_extension": ".py",
   "mimetype": "text/x-python",
   "name": "python",
   "nbconvert_exporter": "python",
   "pygments_lexer": "ipython3",
   "version": "3.6.8"
  }
 },
 "nbformat": 4,
 "nbformat_minor": 2
}
